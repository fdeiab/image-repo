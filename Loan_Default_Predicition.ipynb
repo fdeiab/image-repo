{
  "nbformat": 4,
  "nbformat_minor": 0,
  "metadata": {
    "colab": {
      "provenance": [],
      "mount_file_id": "12BXlZIo7ctBUnBsGxtBEOAh_F2Otaui2",
      "authorship_tag": "ABX9TyOi+rJt1Knx+sCJuEjdRQFD",
      "include_colab_link": true
    },
    "kernelspec": {
      "name": "python3",
      "display_name": "Python 3"
    },
    "language_info": {
      "name": "python"
    }
  },
  "cells": [
    {
      "cell_type": "markdown",
      "metadata": {
        "id": "view-in-github",
        "colab_type": "text"
      },
      "source": [
        "<a href=\"https://colab.research.google.com/github/fdeiab/image-repo/blob/main/Loan_Default_Predicition.ipynb\" target=\"_parent\"><img src=\"https://colab.research.google.com/assets/colab-badge.svg\" alt=\"Open In Colab\"/></a>"
      ]
    },
    {
      "cell_type": "markdown",
      "source": [
        "# Background\n",
        "\n",
        "Loan approval is a critical decision for any lending institution. One of two scenarios may happen, the bank loses out on potential income by rejecting a loan to an individual or a company. Or, they lend a loan to a party exhibiting risky behaviour where heavy losses. This uncertainty is why it is a good idea that banks utilize good loan default prediction models as they stand much to gain. \n",
        "\n",
        "**The major goal of this notebook is to assess if a loan should be approved and predict whether a loan will default.**"
      ],
      "metadata": {
        "id": "1GIcBA_UMj_v"
      }
    },
    {
      "cell_type": "markdown",
      "source": [
        "# The Data\n",
        "\n",
        "The [dataset](https://www.kaggle.com/datasets/larsen0966/sba-loans-case-data-set) used in this project, \"SBA Case\", is a subset of the \"National SBA\" data, which contains historical data from 1987 through 2014. The subset dataset focuses solely on the state of California through the years of 1989 to 2012. The dataset used contains **2,102** records under **35** attributes:\n",
        "\n",
        "| **Variable Name**   | **Description of Variable**                            |\n",
        "|:-------------------:|:------------------------------------------------------:|\n",
        "|  LoanNr\\_ChkDgt     |  Identifier – Primary key                              |\n",
        "|  Name               |  Borrower name                                         |\n",
        "|  City               |  Borrower city                                         |\n",
        "|  State              |  Borrower state                                        |\n",
        "|  Zip                |  Borrower zip code                                     |\n",
        "|  Bank               |  Bank name                                             |\n",
        "|  BankState          |  Bank state                                            |\n",
        "|  NAICS              |  North American industry classification system code    |\n",
        "|  ApprovalDate       |  Date SBA commitment issued                            |\n",
        "|  ApprovalFY         |  Fiscal year of commitment                             |\n",
        "|  Term               |  Loan term in months                                   |\n",
        "|  NoEmp              |  Number of business employees                          |\n",
        "|  NewExist           |  1 = Existing business, 2 = New business               |\n",
        "|  CreateJob          |  Number of jobs created                                |\n",
        "|  RetainedJob        |  Number of jobs retained                               |\n",
        "|  FranchiseCode      |  Franchise code, \\(00000 or 00001\\) = No franchise     |\n",
        "|  UrbanRural         |  1 = Urban, 2 = rural, 0 = undefined                   |\n",
        "|  RevLineCr          |  Revolving line of credit: Y = Yes, N = No             |\n",
        "|  LowDoc             |  LowDoc Loan Program: Y = Yes, N = No                  |\n",
        "|  ChgOffDate         |  The date when a loan is declared to be in default     |\n",
        "|  DisbursementDate   |  Disbursement date                                     |\n",
        "|  DisbursementGross  |  Amount disbursed                                      |\n",
        "|  BalanceGross       |  Gross amount outstanding                              |\n",
        "|  MIS\\_Status        |  Loan status charged off = CHGOFF, Paid in full = PIF  |\n",
        "|  ChgOffPrinGr       |  Charged\\-off amount                                   |\n",
        "|  GrAppv             |  Gross amount of loan approved by bank                 |\n",
        "|  SBA\\_Appv          |  SBA's guaranteed amount of approved loan              |\n",
        "|  New         |  =1 if NewExist=2 \\(New Business\\), =0 if NewExist=1 \\(Existing Business\\)                                                                  |\n",
        "|  Portion     |  Proportion of gross amount guaranteed by SBA                                                                                               |\n",
        "|  RealEstate  |  =1 if loan is backed by real estate, =0 otherwise                                                                                          |\n",
        "|  Recession   |  =1 if loan is active during Great Recession, =0 otherwise                                                                                  |\n",
        "|  Selected    |  =1 if the data are selected as training data to build model for assignment, =0 if the data are selected as testing data to validate model  |\n",
        "|  Default     |  =1 if MIS\\_Status=CHGOFF, =0 if MIS\\_Status=PIF                                                                                            |\n",
        "|  daysterm    |  Extra variable generated when creating “Recession” in Section 4\\.1\\.6                                                                      |\n",
        "|  xx          |  Extra variable generated when creating “Recession” in Section 4\\.1\\.6                                                                      |\n",
        "\n",
        "\n",
        "Logistic Regression will be used for this project to predict odds ratios and probabilities of a loan defaulting or not.\n",
        "\n",
        "Target value for this project: **MIS\\_Status** / **Default**"
      ],
      "metadata": {
        "id": "hYUT0xH0MXAr"
      }
    },
    {
      "cell_type": "code",
      "execution_count": 1,
      "metadata": {
        "id": "4--fsDRYJrEO"
      },
      "outputs": [],
      "source": [
        "#@title #Importing Libraries & Loading The Dataset \n",
        "import pandas as pd\n",
        "import numpy as np\n",
        "import matplotlib.pyplot as plt\n",
        "import seaborn as sns\n",
        "\n",
        "sns.set_style('whitegrid')\n",
        "df = pd.read_csv('/content/drive/MyDrive/SBAcase.11.13.17.csv')\n"
      ]
    },
    {
      "cell_type": "markdown",
      "source": [
        "\n",
        "# Step 1: Exploratory Data Analysis\n",
        "\n",
        "First, we'll examine the number of null values present, the column data types, and the summary statistics to tell us more about the dataset.\n"
      ],
      "metadata": {
        "id": "assx7HYfUy2Z"
      }
    },
    {
      "cell_type": "code",
      "source": [
        "df.info()\n",
        "# to show all 35 columns \n",
        "pd.set_option('display.max_columns', None)\n",
        "df.describe()\n",
        "df.isnull().sum()* 100 / len(df)"
      ],
      "metadata": {
        "colab": {
          "base_uri": "https://localhost:8080/"
        },
        "id": "gfjMZEKeV64m",
        "outputId": "aa59221c-9dbf-4a5c-d3da-0c28e36ce41f"
      },
      "execution_count": 2,
      "outputs": [
        {
          "output_type": "stream",
          "name": "stdout",
          "text": [
            "<class 'pandas.core.frame.DataFrame'>\n",
            "RangeIndex: 2102 entries, 0 to 2101\n",
            "Data columns (total 35 columns):\n",
            " #   Column             Non-Null Count  Dtype  \n",
            "---  ------             --------------  -----  \n",
            " 0   Selected           2102 non-null   int64  \n",
            " 1   LoanNr_ChkDgt      2102 non-null   int64  \n",
            " 2   Name               2102 non-null   object \n",
            " 3   City               2102 non-null   object \n",
            " 4   State              2102 non-null   object \n",
            " 5   Zip                2102 non-null   int64  \n",
            " 6   Bank               2099 non-null   object \n",
            " 7   BankState          2099 non-null   object \n",
            " 8   NAICS              2102 non-null   int64  \n",
            " 9   ApprovalDate       2102 non-null   int64  \n",
            " 10  ApprovalFY         2102 non-null   int64  \n",
            " 11  Term               2102 non-null   int64  \n",
            " 12  NoEmp              2102 non-null   int64  \n",
            " 13  NewExist           2101 non-null   float64\n",
            " 14  CreateJob          2102 non-null   int64  \n",
            " 15  RetainedJob        2102 non-null   int64  \n",
            " 16  FranchiseCode      2102 non-null   int64  \n",
            " 17  UrbanRural         2102 non-null   int64  \n",
            " 18  RevLineCr          2100 non-null   object \n",
            " 19  LowDoc             2099 non-null   object \n",
            " 20  ChgOffDate         697 non-null    float64\n",
            " 21  DisbursementDate   2099 non-null   float64\n",
            " 22  DisbursementGross  2102 non-null   int64  \n",
            " 23  BalanceGross       2102 non-null   int64  \n",
            " 24  MIS_Status         2102 non-null   object \n",
            " 25  ChgOffPrinGr       2102 non-null   int64  \n",
            " 26  GrAppv             2102 non-null   int64  \n",
            " 27  SBA_Appv           2102 non-null   int64  \n",
            " 28  New                2102 non-null   int64  \n",
            " 29  RealEstate         2102 non-null   int64  \n",
            " 30  Portion            2102 non-null   float64\n",
            " 31  Recession          2102 non-null   int64  \n",
            " 32  daysterm           2102 non-null   int64  \n",
            " 33  xx                 2099 non-null   float64\n",
            " 34  Default            2102 non-null   int64  \n",
            "dtypes: float64(5), int64(22), object(8)\n",
            "memory usage: 574.9+ KB\n"
          ]
        },
        {
          "output_type": "execute_result",
          "data": {
            "text/plain": [
              "Selected              0.000000\n",
              "LoanNr_ChkDgt         0.000000\n",
              "Name                  0.000000\n",
              "City                  0.000000\n",
              "State                 0.000000\n",
              "Zip                   0.000000\n",
              "Bank                  0.142721\n",
              "BankState             0.142721\n",
              "NAICS                 0.000000\n",
              "ApprovalDate          0.000000\n",
              "ApprovalFY            0.000000\n",
              "Term                  0.000000\n",
              "NoEmp                 0.000000\n",
              "NewExist              0.047574\n",
              "CreateJob             0.000000\n",
              "RetainedJob           0.000000\n",
              "FranchiseCode         0.000000\n",
              "UrbanRural            0.000000\n",
              "RevLineCr             0.095147\n",
              "LowDoc                0.142721\n",
              "ChgOffDate           66.841104\n",
              "DisbursementDate      0.142721\n",
              "DisbursementGross     0.000000\n",
              "BalanceGross          0.000000\n",
              "MIS_Status            0.000000\n",
              "ChgOffPrinGr          0.000000\n",
              "GrAppv                0.000000\n",
              "SBA_Appv              0.000000\n",
              "New                   0.000000\n",
              "RealEstate            0.000000\n",
              "Portion               0.000000\n",
              "Recession             0.000000\n",
              "daysterm              0.000000\n",
              "xx                    0.142721\n",
              "Default               0.000000\n",
              "dtype: float64"
            ]
          },
          "metadata": {},
          "execution_count": 2
        }
      ]
    },
    {
      "cell_type": "markdown",
      "source": [
        "## Handle Missing Data\n"
      ],
      "metadata": {
        "id": "70Q8Up2D0iph"
      }
    },
    {
      "cell_type": "code",
      "source": [
        "#@markdown The ChgOffDate Column (date a loan is entered into default) is comprised of approximately 67% of missing values, which may appear concerning at first, but if we take a look at the percentage of loans that are paid in full, it agrees with the number of null values.\n",
        "#@markdown \n",
        "#@markdown Therefore, the missing values will not be filled in or removed to display the true nature of defaulted and paid-off loans. However, we will take this decision into consideration when making conclusions that may be sensitive to the null values.\n",
        "df['Default'].value_counts()[0]* 100 / len(df)"
      ],
      "metadata": {
        "colab": {
          "base_uri": "https://localhost:8080/"
        },
        "id": "KLLwEBir2q9Y",
        "outputId": "57c01f51-a40f-40ed-e3e7-e5621e2dee88"
      },
      "execution_count": 3,
      "outputs": [
        {
          "output_type": "execute_result",
          "data": {
            "text/plain": [
              "67.36441484300666"
            ]
          },
          "metadata": {},
          "execution_count": 3
        }
      ]
    },
    {
      "cell_type": "code",
      "source": [
        "fig, ax = plt.subplots(1, figsize=(10, 10))\n",
        "p = sns.countplot(x='MIS_Status', data=df, palette='Blues')\n",
        "p.set_xlabel('Gamma Ray', fontsize= 14, fontweight='bold')\n",
        "p.set_ylabel('Lithology', fontsize= 14, fontweight='bold')\n",
        "plt.xticks(rotation = 90)\n",
        "plt.show()"
      ],
      "metadata": {
        "colab": {
          "base_uri": "https://localhost:8080/",
          "height": 873
        },
        "id": "1_rv-vk5ZwQZ",
        "outputId": "49373835-47b3-4457-aa9e-b3c29539e60d"
      },
      "execution_count": 4,
      "outputs": [
        {
          "output_type": "display_data",
          "data": {
            "text/plain": [
              "<Figure size 1000x1000 with 1 Axes>"
            ],
            "image/png": "[encoded data removed]"
          },
          "metadata": {}
        }
      ]
    }
  ]
}